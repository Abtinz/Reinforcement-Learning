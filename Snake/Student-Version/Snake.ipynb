{
 "cells": [
  {
   "cell_type": "code",
   "execution_count": null,
   "metadata": {},
   "outputs": [],
   "source": [
    "import torch\n",
    "import torch.nn as nn\n",
    "\n",
    "import numpy as np\n",
    "\n",
    "torch.manual_seed(0)\n",
    "np.random.seed(0)"
   ]
  },
  {
   "cell_type": "code",
   "execution_count": null,
   "metadata": {
    "ExecuteTime": {
     "end_time": "2023-12-17T23:23:58.767817Z",
     "start_time": "2023-12-17T23:23:55.215327Z"
    }
   },
   "outputs": [],
   "source": [
    "from model import QNetwork, get_network_input\n",
    "from Game import GameEnvironment\n",
    "from collections import deque\n",
    "from replay_buffer import ReplayMemory\n",
    "import time\n",
    "\n",
    "# TODO: Create an instance for model with input_dim = 10, hidden_dim = 20, output_dim = 5\n",
    "\n",
    "model = None\n",
    "epsilon = 0.1\n",
    "grid_size = 15 \n",
    "GAMMA = 0.9\n",
    "\n",
    "board = GameEnvironment(grid_size, nothing=0, dead=-1, apple=1)\n",
    "memory = ReplayMemory(1000)  \n",
    "optimizer = torch.optim.Adam(model.parameters(), lr = 1e-5)"
   ]
  },
  {
   "cell_type": "code",
   "execution_count": null,
   "metadata": {
    "ExecuteTime": {
     "end_time": "2023-12-17T22:47:27.988868Z",
     "start_time": "2023-12-17T22:47:27.887184Z"
    }
   },
   "outputs": [],
   "source": [
    "def run_episode(num_games):\n",
    "    run = True\n",
    "    games_played = 0\n",
    "    total_reward = 0    \n",
    "    episode_games = 0\n",
    "    snake_len_array = []\n",
    "    \n",
    "    while run:\n",
    "        # TODO: Get state\n",
    "        state = None\n",
    "        \n",
    "        action_0 = model(state)\n",
    "        \n",
    "        # TODO: Compare a random number with epsilon and find out the next action\n",
    "        next_action = None\n",
    "\n",
    "        reward, done, len_of_snake = board.update_board_state(next_action)\n",
    "        \n",
    "        # TODO: Get next state\n",
    "        next_state = None\n",
    "        \n",
    "        memory.push(state, next_action, reward, next_state, done)\n",
    "        \n",
    "        # TODO: update total reward\n",
    "        total_reward += None\n",
    "        \n",
    "        episode_games += 1\n",
    "        \n",
    "        if board.game_over:\n",
    "            games_played += 1\n",
    "            snake_len_array.append(len_of_snake)\n",
    "            board.reset_game()\n",
    "            \n",
    "            if num_games == games_played:\n",
    "                run = False\n",
    "                \n",
    "    avg_len_of_snake = np.mean(snake_len_array)\n",
    "    max_len_of_snake = np.max(snake_len_array)\n",
    "    return total_reward, avg_len_of_snake, max_len_of_snake"
   ]
  },
  {
   "cell_type": "code",
   "execution_count": null,
   "metadata": {
    "ExecuteTime": {
     "end_time": "2023-12-17T22:47:30.466809Z",
     "start_time": "2023-12-17T22:47:30.364775Z"
    }
   },
   "outputs": [],
   "source": [
    "MSE = nn.MSELoss()\n",
    "def learn(num_updates, batch_size):\n",
    "    \n",
    "    total_loss = 0\n",
    "    \n",
    "    for i in range(num_updates):\n",
    "\n",
    "        optimizer.zero_grad()\n",
    "        sample = memory.sample(batch_size)\n",
    "            \n",
    "        states, actions, rewards, next_states, dones = sample\n",
    "        states = torch.cat([x.unsqueeze(0) for x in states], dim=0) \n",
    "        actions = torch.LongTensor(actions) \n",
    "        rewards = torch.FloatTensor(rewards) \n",
    "        next_states = torch.cat([x.unsqueeze(0) for x in next_states]) \n",
    "        dones = torch.FloatTensor(dones) \n",
    "        \n",
    "        # TODO: Get Q values for current state\n",
    "        q_local = None\n",
    "        \n",
    "        # TODO: Get Q values for next state\n",
    "        next_q_value = None\n",
    "\n",
    "        Q_expected  = q_local.gather(1, actions.unsqueeze(0).transpose(0,1)).transpose(0,1).squeeze(0)  \n",
    "        \n",
    "        Q_targets_next = torch.max(next_q_value, 1)[0]*(torch.ones(dones.size()) - dones)\n",
    "        \n",
    "        # TODO: Calculate Q targets for current state\n",
    "        Q_targets  = None\n",
    "        \n",
    "        loss = MSE(Q_expected, Q_targets)\n",
    "        \n",
    "        total_loss += loss\n",
    "        loss.backward()\n",
    "        optimizer.step()\n",
    "        \n",
    "    return total_loss"
   ]
  },
  {
   "cell_type": "code",
   "execution_count": null,
   "metadata": {
    "ExecuteTime": {
     "end_time": "2023-12-17T23:15:36.671532Z",
     "start_time": "2023-12-17T22:53:57.758768Z"
    }
   },
   "outputs": [],
   "source": [
    "num_episodes = 3000 \n",
    "num_updates = 200 \n",
    "print_every = 100\n",
    "games_in_episode = 30\n",
    "batch_size = 20\n",
    "\n",
    "\n",
    "def train():\n",
    "    \n",
    "    scores_deque = deque(maxlen=100)\n",
    "    scores_array = []\n",
    "    avg_scores_array = []    \n",
    "    \n",
    "    avg_len_array = []\n",
    "    avg_max_len_array = []\n",
    "    \n",
    "    time_start = time.time()\n",
    "    \n",
    "    \n",
    "    for i_episode in range(num_episodes+1):\n",
    "        \n",
    "        # TODO: Run an episode\n",
    "        score, avg_len, max_len = None\n",
    "        \n",
    "        scores_deque.append(score)\n",
    "        scores_array.append(score)\n",
    "        avg_len_array.append(avg_len)\n",
    "        avg_max_len_array.append(max_len)\n",
    "        \n",
    "        avg_score = np.mean(scores_deque)\n",
    "        avg_scores_array.append(avg_score)\n",
    "        \n",
    "        # TODO: Learn from the episode\n",
    "        total_loss = None\n",
    "        \n",
    "        dt = (int)(time.time() - time_start)\n",
    "        \n",
    "        if i_episode % print_every == 0 and i_episode > 0:\n",
    "            print('Ep.: {:6}, Loss: {:.3f}, Avg.Score: {:.2f}, Avg.LenOfSnake: {:.2f}, Max.LenOfSnake:  {:.2f} Time: {:02}:{:02}:{:02} '.\\\n",
    "                  format(i_episode, total_loss, score, avg_len, max_len, dt//3600, dt%3600//60, dt%60))\n",
    "            \n",
    "        memory.truncate()\n",
    "        \n",
    "        if i_episode % 250 == 0 and i_episode > 0:   \n",
    "            torch.save(model.state_dict(), './model/Snake_{}'.format(i_episode))\n",
    "            \n",
    "    return scores_array, avg_scores_array, avg_len_array, avg_max_len_array    \n",
    "\n",
    "# TODO: Train the model\n",
    "scores, avg_scores, avg_len_of_snake, max_len_of_snake = None"
   ]
  },
  {
   "cell_type": "code",
   "execution_count": null,
   "metadata": {
    "ExecuteTime": {
     "end_time": "2023-12-17T23:20:09.052807Z",
     "start_time": "2023-12-17T23:20:08.500986Z"
    }
   },
   "outputs": [],
   "source": [
    "import matplotlib.pyplot as plt\n",
    "%matplotlib inline\n",
    "\n",
    "print('length of scores: ', len(scores), ', len of avg_scores: ', len(avg_scores))\n",
    "\n",
    "fig = plt.figure()\n",
    "ax = fig.add_subplot(111)\n",
    "plt.plot(np.arange(1, len(scores)+1), scores, label=\"Score\")\n",
    "plt.plot(np.arange(1, len(avg_scores)+1), avg_scores, label=\"Avg score on 100 episodes\")\n",
    "plt.legend(bbox_to_anchor=(1.05, 1)) \n",
    "plt.ylabel('Score')\n",
    "plt.xlabel('Episodes #')\n",
    "plt.show()"
   ]
  },
  {
   "cell_type": "code",
   "execution_count": null,
   "metadata": {
    "ExecuteTime": {
     "end_time": "2023-12-17T23:20:19.810286Z",
     "start_time": "2023-12-17T23:20:19.414789Z"
    }
   },
   "outputs": [],
   "source": [
    "ax1 = fig.add_subplot(121)\n",
    "plt.plot(np.arange(1, len(avg_len_of_snake)+1), avg_len_of_snake, label=\"Avg Len of Snake\")\n",
    "plt.plot(np.arange(1, len(max_len_of_snake)+1), max_len_of_snake, label=\"Max Len of Snake\")\n",
    "plt.legend(bbox_to_anchor=(1.05, 1)) \n",
    "plt.ylabel('Length of Snake')\n",
    "plt.xlabel('Episodes #')\n",
    "plt.show()"
   ]
  }
 ],
 "metadata": {
  "kernelspec": {
   "display_name": "Python 3 (ipykernel)",
   "language": "python",
   "name": "python3"
  },
  "language_info": {
   "codemirror_mode": {
    "name": "ipython",
    "version": 3
   },
   "file_extension": ".py",
   "mimetype": "text/x-python",
   "name": "python",
   "nbconvert_exporter": "python",
   "pygments_lexer": "ipython3",
   "version": "3.8.6"
  }
 },
 "nbformat": 4,
 "nbformat_minor": 2
}
